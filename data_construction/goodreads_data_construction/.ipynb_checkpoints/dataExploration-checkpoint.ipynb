{
 "cells": [
  {
   "cell_type": "code",
   "execution_count": 65,
   "metadata": {},
   "outputs": [],
   "source": [
    "import gzip\n",
    "import json\n",
    "import re\n",
    "import os\n",
    "import sys\n",
    "import numpy as np\n",
    "import pandas as pd\n",
    "from sklearn.metrics.pairwise import cosine_similarity\n",
    "from predicate_construction import construct_predicates "
   ]
  },
  {
   "cell_type": "markdown",
   "metadata": {},
   "source": [
    "# Read in GoodReads dataset"
   ]
  },
  {
   "cell_type": "code",
   "execution_count": 29,
   "metadata": {},
   "outputs": [],
   "source": [
    "DIR = '/Users/charlesdickens/Documents/GitHub/RankPSL/data_construction/goodreads_data_construction'"
   ]
  },
  {
   "cell_type": "code",
   "execution_count": 30,
   "metadata": {},
   "outputs": [],
   "source": [
    "def load_data(file_name, head = 1000):\n",
    "    count = 0\n",
    "    data = []\n",
    "    with gzip.open(file_name) as fin:\n",
    "        for l in fin:\n",
    "            d = json.loads(l)\n",
    "            count += 1\n",
    "            data.append(d)\n",
    "            \n",
    "            # break if reaches the 100th line\n",
    "            if (head) and (count > head):\n",
    "                break\n",
    "    return data"
   ]
  },
  {
   "cell_type": "code",
   "execution_count": 31,
   "metadata": {},
   "outputs": [],
   "source": [
    "books = load_data(os.path.join(DIR, 'goodreads_books_comics_graphic.json.gz'), head=None)\n",
    "interactions = load_data(os.path.join(DIR, 'goodreads_interactions_comics_graphic.json.gz'), head=5000)\n",
    "reviews = load_data(os.path.join(DIR, 'goodreads_reviews_comics_graphic.json.gz'), head=None)"
   ]
  },
  {
   "cell_type": "code",
   "execution_count": 32,
   "metadata": {},
   "outputs": [],
   "source": [
    "# build pandas frame for each dataset\n",
    "books_df = pd.DataFrame(books)\n",
    "books_df = books_df.set_index('book_id')\n",
    "interactions_df = pd.DataFrame(interactions)\n",
    "interactions_df = interactions_df.set_index(['user_id', 'book_id'])\n",
    "reviews_df = pd.DataFrame(reviews)\n",
    "reviews_df = reviews_df.set_index(['review_id'])"
   ]
  },
  {
   "cell_type": "code",
   "execution_count": 33,
   "metadata": {},
   "outputs": [],
   "source": [
    "# pull out books that are not in interactions dataframe\n",
    "books_df = books_df[books_df.index.isin(interactions_df.index.unique(level='book_id'))]\n",
    "# pull out reviews by users not in interactions dataframe\n",
    "# pull out reviews for book not in interactions dataframe\n",
    "reviews_df = reviews_df.loc[reviews_df.book_id.isin(interactions_df.index.unique(level='book_id'))]\n",
    "reviews_df = reviews_df.loc[reviews_df.user_id.isin(interactions_df.index.unique(level='user_id'))]"
   ]
  },
  {
   "cell_type": "code",
   "execution_count": 34,
   "metadata": {},
   "outputs": [
    {
     "data": {
      "text/plain": [
       "(3369, 28)"
      ]
     },
     "metadata": {},
     "output_type": "display_data"
    },
    {
     "data": {
      "text/plain": [
       "Index(['isbn', 'text_reviews_count', 'series', 'country_code', 'language_code',\n",
       "       'popular_shelves', 'asin', 'is_ebook', 'average_rating', 'kindle_asin',\n",
       "       'similar_books', 'description', 'format', 'link', 'authors',\n",
       "       'publisher', 'num_pages', 'publication_day', 'isbn13',\n",
       "       'publication_month', 'edition_information', 'publication_year', 'url',\n",
       "       'image_url', 'ratings_count', 'work_id', 'title',\n",
       "       'title_without_series'],\n",
       "      dtype='object')"
      ]
     },
     "execution_count": 34,
     "metadata": {},
     "output_type": "execute_result"
    }
   ],
   "source": [
    "display(books_df.shape)\n",
    "books_df.columns"
   ]
  },
  {
   "cell_type": "code",
   "execution_count": 35,
   "metadata": {},
   "outputs": [
    {
     "data": {
      "text/plain": [
       "(5001, 8)"
      ]
     },
     "metadata": {},
     "output_type": "display_data"
    },
    {
     "data": {
      "text/plain": [
       "Index(['review_id', 'is_read', 'rating', 'review_text_incomplete',\n",
       "       'date_added', 'date_updated', 'read_at', 'started_at'],\n",
       "      dtype='object')"
      ]
     },
     "execution_count": 35,
     "metadata": {},
     "output_type": "execute_result"
    }
   ],
   "source": [
    "display(interactions_df.shape)\n",
    "interactions_df.columns"
   ]
  },
  {
   "cell_type": "code",
   "execution_count": 36,
   "metadata": {},
   "outputs": [
    {
     "data": {
      "text/plain": [
       "(140, 10)"
      ]
     },
     "metadata": {},
     "output_type": "display_data"
    },
    {
     "data": {
      "text/plain": [
       "Index(['user_id', 'book_id', 'rating', 'review_text', 'date_added',\n",
       "       'date_updated', 'read_at', 'started_at', 'n_votes', 'n_comments'],\n",
       "      dtype='object')"
      ]
     },
     "execution_count": 36,
     "metadata": {},
     "output_type": "execute_result"
    }
   ],
   "source": [
    "display(reviews_df.shape)\n",
    "reviews_df.columns"
   ]
  },
  {
   "cell_type": "code",
   "execution_count": 37,
   "metadata": {},
   "outputs": [],
   "source": [
    "def f_memoize_pandas(s):\n",
    "    \"\"\"\n",
    "    Memoization technique\n",
    "    \"\"\"\n",
    "    dates = {date:pd.to_datetime(date, infer_datetime_format=True, utc=True) for date in s.unique()}\n",
    "    return s.map(dates)"
   ]
  },
  {
   "cell_type": "code",
   "execution_count": 38,
   "metadata": {},
   "outputs": [],
   "source": [
    "interactions_df.date_added = f_memoize_pandas(interactions_df.date_added)\n",
    "interactions_df.date_updated = f_memoize_pandas(interactions_df.date_updated)\n",
    "interactions_df.read_at = f_memoize_pandas(interactions_df.read_at)\n",
    "interactions_df.started_at = f_memoize_pandas(interactions_df.started_at)\n",
    "\n",
    "reviews_df.date_added = f_memoize_pandas(reviews_df.date_added)\n",
    "reviews_df.date_updated = f_memoize_pandas(reviews_df.date_updated)\n",
    "reviews_df.read_at = f_memoize_pandas(reviews_df.read_at)\n",
    "reviews_df.started_at = f_memoize_pandas(reviews_df.started_at)"
   ]
  },
  {
   "cell_type": "code",
   "execution_count": 39,
   "metadata": {},
   "outputs": [
    {
     "data": {
      "text/plain": [
       "Timestamp('2007-05-26 21:35:38+0000', tz='UTC')"
      ]
     },
     "metadata": {},
     "output_type": "display_data"
    },
    {
     "data": {
      "text/plain": [
       "Timestamp('2017-10-25 04:54:47+0000', tz='UTC')"
      ]
     },
     "metadata": {},
     "output_type": "display_data"
    },
    {
     "data": {
      "text/plain": [
       "<matplotlib.axes._subplots.AxesSubplot at 0x7f8fbd247110>"
      ]
     },
     "execution_count": 39,
     "metadata": {},
     "output_type": "execute_result"
    },
    {
     "data": {
      "image/png": "[encoded data removed]",
      "text/plain": [
       "<Figure size 432x288 with 1 Axes>"
      ]
     },
     "metadata": {
      "needs_background": "light"
     },
     "output_type": "display_data"
    }
   ],
   "source": [
    "# plot distribution of dates of date_added interactions\n",
    "display(interactions_df[\"date_added\"].min())\n",
    "display(interactions_df[\"date_added\"].max())\n",
    "interactions_df.groupby([interactions_df[\"date_added\"].dt.year])[\"rating\"].count().plot(kind=\"bar\")"
   ]
  },
  {
   "cell_type": "code",
   "execution_count": 40,
   "metadata": {},
   "outputs": [
    {
     "data": {
      "text/plain": [
       "Timestamp('2007-05-26 21:35:54+0000', tz='UTC')"
      ]
     },
     "metadata": {},
     "output_type": "display_data"
    },
    {
     "data": {
      "text/plain": [
       "Timestamp('2017-10-26 15:23:09+0000', tz='UTC')"
      ]
     },
     "metadata": {},
     "output_type": "display_data"
    },
    {
     "data": {
      "text/plain": [
       "<matplotlib.axes._subplots.AxesSubplot at 0x7f902d7ca790>"
      ]
     },
     "execution_count": 40,
     "metadata": {},
     "output_type": "execute_result"
    },
    {
     "data": {
      "image/png": "[encoded data removed]",
      "text/plain": [
       "<Figure size 432x288 with 1 Axes>"
      ]
     },
     "metadata": {
      "needs_background": "light"
     },
     "output_type": "display_data"
    }
   ],
   "source": [
    "# plot distribution of dates of date_updated interactions\n",
    "display(interactions_df[\"date_updated\"].min())\n",
    "display(interactions_df[\"date_updated\"].max())\n",
    "interactions_df.groupby([interactions_df[\"date_updated\"].dt.year])[\"rating\"].count().plot(kind=\"bar\")"
   ]
  },
  {
   "cell_type": "markdown",
   "metadata": {},
   "source": [
    "Let every interaction with a book **starting** after 2017 be the test set.\n",
    "\n",
    "There looks like there is enough interactions to suffice for a test set.  "
   ]
  },
  {
   "cell_type": "markdown",
   "metadata": {},
   "source": [
    "# Partition train and test interaction data by 2016"
   ]
  },
  {
   "cell_type": "code",
   "execution_count": 41,
   "metadata": {},
   "outputs": [],
   "source": [
    "# Partition train and test data by 2015\n",
    "test_interactions_df = interactions_df[interactions_df.date_added.dt.year >= 2016 ]\n",
    "test_reviews_df = reviews_df[reviews_df.date_added.dt.year >= 2016]"
   ]
  },
  {
   "cell_type": "code",
   "execution_count": 42,
   "metadata": {},
   "outputs": [
    {
     "data": {
      "text/plain": [
       "<matplotlib.axes._subplots.AxesSubplot at 0x7f8e92e00590>"
      ]
     },
     "execution_count": 42,
     "metadata": {},
     "output_type": "execute_result"
    },
    {
     "data": {
      "image/png": "[encoded data removed]",
      "text/plain": [
       "<Figure size 432x288 with 1 Axes>"
      ]
     },
     "metadata": {
      "needs_background": "light"
     },
     "output_type": "display_data"
    }
   ],
   "source": [
    "test_interactions_df[test_interactions_df.rating != 0].groupby(\"rating\").rating.count().plot(kind=\"bar\")"
   ]
  },
  {
   "cell_type": "code",
   "execution_count": 43,
   "metadata": {},
   "outputs": [],
   "source": [
    "# Filter out the 0 ratings, those represent that the user has not yet provided their rating \n",
    "test_interactions_df = test_interactions_df[test_interactions_df.rating != 0]"
   ]
  },
  {
   "cell_type": "code",
   "execution_count": 44,
   "metadata": {},
   "outputs": [],
   "source": [
    "# Create train set\n",
    "train_interactions_df = interactions_df[interactions_df.date_added.dt.year < 2016 ]\n",
    "train_reviews_df = reviews_df[reviews_df.date_added.dt.year < 2016 ]"
   ]
  },
  {
   "cell_type": "code",
   "execution_count": null,
   "metadata": {},
   "outputs": [],
   "source": []
  },
  {
   "cell_type": "markdown",
   "metadata": {},
   "source": [
    "# First I would like a principled way to sample this dataset so we can \n",
    "\n",
    "1. get a fair estimate of generalization performance\n",
    "2. perform cross validation\n",
    "3. perform inferences on many small graphs that are good representatives of larger distribution to learn weights\n",
    "4. perform inferences on many small graphs that are good representatives of larger distribution to output an ensemble of inference predictions that can be aggregated by a voting procedure\n",
    "5. Combine a mixture of psl models. Each PSL model defines a distribution. The mixtures could come from a random walk sampling seeded at each of the targets."
   ]
  },
  {
   "cell_type": "code",
   "execution_count": null,
   "metadata": {},
   "outputs": [],
   "source": []
  },
  {
   "cell_type": "markdown",
   "metadata": {},
   "source": [
    "The models for predicting latent preferences are influenced by the structure of the graphs induced by the\n",
    "\n",
    "    - Relations amongst the books\n",
    "        - Authors relationship\n",
    "        - Genre relationship\n",
    "        - Series relationship\n",
    "        - user feedback patterns\n",
    "        \n",
    "    - Similarities amongst the users\n",
    "        - feedback similarites\n",
    "            - shelving \n",
    "            - read \n",
    "            - rating \n",
    "            - review \n",
    "        \n",
    "Perhaps we can sample both graphs induced by these relationship by seperately seeding a random walk at the targets and letting the random walk spread until a prespecified graph size is met.\n",
    "\n",
    "Then we can join these sampled graphs so that only users from the user sample and books from the book graph sample are used.\n",
    "\n",
    "To ensure information is not leaked across folds, we should note that the user similarities are based on their ratings of the books.\n",
    "\n",
    "*Note* that structural information is really only available among the books otherwise, the user relationships are latent and can be infered via rating habits.\n",
    "\n",
    "Perhaps first pass we sample from the book data set then randomly sample from users and filter so only books that were found in graph sampling are used in PSL model."
   ]
  },
  {
   "cell_type": "code",
   "execution_count": 45,
   "metadata": {},
   "outputs": [],
   "source": [
    "# create author to book data frame\n",
    "author_df = pd.DataFrame(columns=books_df.index)\n",
    "author_df.index.name = 'author_id'\n",
    "for book_id, book in books_df.iterrows():\n",
    "    for author in book.authors:\n",
    "        author_df.loc[author['author_id'], book.name] = 1"
   ]
  },
  {
   "cell_type": "code",
   "execution_count": 46,
   "metadata": {},
   "outputs": [],
   "source": [
    "# from author information create book_book_by_author_adj_matrix\n",
    "author_df = author_df.fillna(0)\n",
    "book_author_matrix = author_df.to_numpy().transpose()\n",
    "np.matmul(book_author_matrix, book_author_matrix.transpose()).shape\n",
    "book_book_by_author_adj_matrix = pd.DataFrame(np.matmul(book_author_matrix, book_author_matrix.transpose()), \n",
    "                                              index=books_df.index, columns=books_df.index)\n",
    "book_book_by_author_adj_matrix[book_book_by_author_adj_matrix >= 1] = 1\n",
    "\n",
    "# remove self loops\n",
    "book_book_by_author_adj_matrix = (book_book_by_author_adj_matrix - np.eye(book_book_by_author_adj_matrix.shape[0]))"
   ]
  },
  {
   "cell_type": "code",
   "execution_count": 47,
   "metadata": {},
   "outputs": [],
   "source": [
    "# create genre to book data frame, genre is from shelf names by users\n",
    "max_genres = 3\n",
    "genre_df = pd.DataFrame(columns=books_df.index)\n",
    "genre_df.index.name = 'genre'\n",
    "for book_id, book in books_df.iterrows():\n",
    "    n_genres = 0\n",
    "    for genre in book.popular_shelves:\n",
    "        if n_genres >= 3:\n",
    "            break\n",
    "        else:\n",
    "            if genre['name'] != 'to-read':\n",
    "                genre_df.loc[genre['name'], book.name] = 1\n",
    "                n_genres = n_genres + 1"
   ]
  },
  {
   "cell_type": "code",
   "execution_count": 48,
   "metadata": {},
   "outputs": [],
   "source": [
    "# from genre information create book_book_by_genre_adj_matrix\n",
    "genre_df = genre_df.fillna(0)\n",
    "book_genre_matrix = genre_df.to_numpy().transpose()\n",
    "np.matmul(book_genre_matrix, book_genre_matrix.transpose()).shape\n",
    "book_book_by_genre_adj_matrix = pd.DataFrame(np.matmul(book_genre_matrix, book_genre_matrix.transpose()),\n",
    "                                             index=books_df.index, columns=books_df.index)\n",
    "book_book_by_genre_adj_matrix[book_book_by_genre_adj_matrix >= 1] = 1\n",
    "\n",
    "# remove self loops\n",
    "book_book_by_author_adj_matrix = (book_book_by_author_adj_matrix - np.eye(book_book_by_author_adj_matrix.shape[0]))\n"
   ]
  },
  {
   "cell_type": "markdown",
   "metadata": {},
   "source": [
    "**Define the Graph Transition Matrix**\n",
    "\n",
    "A first pass approach is by simply overlapping the adjacency matrices, i.e. summing them, and then normalizing each row (or column) so the row values add to 1. We can then interpret these values as transition probabilities to perform a random walk.\n",
    "\n"
   ]
  },
  {
   "cell_type": "code",
   "execution_count": 49,
   "metadata": {},
   "outputs": [],
   "source": [
    "book_graph_transition = (book_book_by_author_adj_matrix + book_book_by_genre_adj_matrix)\n",
    "book_graph_transition = book_graph_transition / book_graph_transition.sum()"
   ]
  },
  {
   "cell_type": "code",
   "execution_count": 50,
   "metadata": {},
   "outputs": [],
   "source": [
    "# Drop interactions for which there is no transition probabilities between the books in the test and train set\n",
    "non_degenerate_books = book_graph_transition[~(book_graph_transition.isna().sum(axis=0) > 0)].index\n",
    "book_graph_transition = book_graph_transition.loc[non_degenerate_books, non_degenerate_books]\n",
    "test_interactions_df = test_interactions_df.loc[(slice(None), book_graph_transition.index), :]\n",
    "test_reviews_df = test_reviews_df[test_reviews_df.book_id.isin(book_graph_transition.index)]\n",
    "\n",
    "train_interactions_df = train_interactions_df.loc[(slice(None), book_graph_transition.index), :]\n",
    "train_reviews_df = train_reviews_df[train_reviews_df.book_id.isin(book_graph_transition.index)]"
   ]
  },
  {
   "cell_type": "code",
   "execution_count": 57,
   "metadata": {},
   "outputs": [],
   "source": [
    "# Write train, test, and all graph to a csv file to visualize in gephi for debugging purposes\n",
    "train_books = train_interactions_df.index.get_level_values(level=1)\n",
    "test_books = train_interactions_df.index.get_level_values(level=1)\n",
    "\n",
    "train_book_graph = book_graph_transition.loc[train_books, train_books]\n",
    "test_book_graph = book_graph_transition.loc[test_books, test_books]\n",
    "\n",
    "train_book_graph.to_csv('./train_book_graph.csv')\n",
    "test_book_graph.to_csv('./test_book_graph.csv')\n",
    "book_graph_transition.to_csv('book_graph.csv')"
   ]
  },
  {
   "cell_type": "markdown",
   "metadata": {},
   "source": [
    "**Method for sampling from dataset**"
   ]
  },
  {
   "cell_type": "code",
   "execution_count": 144,
   "metadata": {},
   "outputs": [],
   "source": [
    "def goodreads_train_sample(n, initial_state=None):\n",
    "    \"\"\"\n",
    "    Method for sampling from the goodreads dataset by performing a random walk on the book graph\n",
    "    starting at the initial state(s) provided\n",
    "    n: number of steps on the graph for each initial state\n",
    "    initial_state: array of starting points for random walk on graph\n",
    "    return: Sampled books_df, interactions_df, and reviews_df \n",
    "    \"\"\"\n",
    "    # set initial state, if it was not passed, to a single random book\n",
    "    if initial_state is None:\n",
    "        initial_state = np.random.choice(books_df.index, 1)\n",
    "        \n",
    "    # obtain random walk sample of books\n",
    "    sampled_books = set(list(initial_state))\n",
    "    for state_0 in initial_state:\n",
    "        state = state_0\n",
    "        for i in range(n):\n",
    "            transition_dist = book_graph_transition[state]\n",
    "            state = np.random.choice(book_graph_transition.index, 1, p=transition_dist)[0]\n",
    "            sampled_books.add(state)\n",
    "            \n",
    "    # Write sampled graph to a csv file to visualize in gephi for debugging purposes\n",
    "    sampled_book_graph = book_graph_transition.loc[sampled_books, sampled_books]\n",
    "    sampled_book_graph.to_csv('./sampled_book_graph.csv')\n",
    "\n",
    "    # use books to sample datasets\n",
    "    sampled_books_df = books_df.loc[sampled_books, :]\n",
    "    sampled_interactions_df = train_interactions_df.loc[(slice(None), sampled_books), :]\n",
    "    sampled_reviews_df = train_reviews_df[train_reviews_df.book_id.isin(sampled_books)]\n",
    "\n",
    "    return sampled_books_df, sampled_interactions_df, sampled_reviews_df"
   ]
  },
  {
   "cell_type": "code",
   "execution_count": null,
   "metadata": {},
   "outputs": [],
   "source": []
  },
  {
   "cell_type": "markdown",
   "metadata": {},
   "source": [
    "# How does including more relationship information influence inference performance?\n",
    "\n",
    "Relationship information enters the model through\n",
    "\n",
    "- Structured input\n",
    "    - Scale the amount of graph sampling \n",
    "- Structured output\n",
    "    - Scale the amount of blocking"
   ]
  },
  {
   "cell_type": "markdown",
   "metadata": {},
   "source": [
    "**Method for running PSL CLI**"
   ]
  },
  {
   "cell_type": "code",
   "execution_count": 145,
   "metadata": {},
   "outputs": [],
   "source": [
    "def good_reads_psl(books_df, interactions_df, reviews_df, \n",
    "                   obs_interactions, obs_reviews,\n",
    "                   target_interactions, target_reviews,\n",
    "                   truth_interactions, truth_reviews, \n",
    "                   fold, setting):\n",
    "    \"\"\"\n",
    "    Given the provided datasets, run PSL \n",
    "    \"\"\"\n",
    "    \n",
    "    # call predicate construction method and provide sampled dataset \n",
    "    construct_predicates(books_df, interactions_df, reviews_df,\n",
    "                         obs_interactions, obs_reviews,\n",
    "                         target_interactions, target_reviews,\n",
    "                         truth_interactions, truth_reviews,\n",
    "                         fold, setting)\n",
    "    \n",
    "    # move the data to the cli data dir\n",
    "    ! rm -r ../../datasets/goodreads/data/goodreads\n",
    "    ! mv ./goodreads ../../datasets/goodreads/data/goodreads\n",
    "    \n",
    "    # perform PSL inference\n",
    "    !(cd ../../ ; ./run.sh)"
   ]
  },
  {
   "cell_type": "markdown",
   "metadata": {},
   "source": [
    "**Sample From Dataset and run PSL in eval**"
   ]
  },
  {
   "cell_type": "code",
   "execution_count": 146,
   "metadata": {},
   "outputs": [
    {
     "name": "stdout",
     "output_type": "stream",
     "text": [
      "Running inference experiments on datasets: [goodreads].\n",
      "\n",
      "Running goodreads (#0) -- .\n",
      "Running goodreads (#0) -- .\n"
     ]
    }
   ],
   "source": [
    "# sample from dataset using the books in the test set\n",
    "test_books = test_interactions_df.index.unique(level='book_id')\n",
    "sampled_books_df, sampled_interactions_df, sampled_reviews_df = goodreads_train_sample(2, test_books)\n",
    "\n",
    "# partition by obs_interactions, target_interactions, and, truth_interactions\n",
    "obs_interactions = sampled_interactions_df.index\n",
    "truth_interactions = test_interactions_df.index\n",
    "target_interactions = truth_interactions\n",
    "\n",
    "# partition by obs_reviews, target_reviews, and, truth_reviews\n",
    "obs_reviews = sampled_reviews_df.index\n",
    "truth_reviews = test_reviews_df.index\n",
    "target_reviews = truth_reviews\n",
    "\n",
    "# set fold and setting\n",
    "fold = '0'\n",
    "setting = 'eval'\n",
    "\n",
    "# run PSL eval\n",
    "good_reads_psl(books_df, interactions_df, reviews_df, \n",
    "               obs_interactions, obs_reviews,\n",
    "               target_interactions, target_reviews,\n",
    "               truth_interactions, truth_reviews, \n",
    "               fold, setting)"
   ]
  },
  {
   "cell_type": "markdown",
   "metadata": {},
   "source": [
    "# How variable is weight learning across dataset samples"
   ]
  },
  {
   "cell_type": "markdown",
   "metadata": {},
   "source": [
    "# How does weight learnings effectiveness change with dataset size?"
   ]
  },
  {
   "cell_type": "markdown",
   "metadata": {},
   "source": [
    "# How does weight learning with many different data samples effect weight learning result and effectiveness?"
   ]
  },
  {
   "cell_type": "markdown",
   "metadata": {},
   "source": []
  },
  {
   "cell_type": "markdown",
   "metadata": {},
   "source": [
    "# SCRATCH "
   ]
  },
  {
   "cell_type": "code",
   "execution_count": 123,
   "metadata": {},
   "outputs": [],
   "source": [
    "observed_interactions_df = interactions_df.loc[obs_interactions, :]\n",
    "# similarity based on ratings\n",
    "user_book_read = observed_interactions_df['is_read'].unstack().fillna(0)\n",
    "user_book_ratings = observed_interactions_df['rating'].unstack().fillna(0)\n",
    "user_book_reviewed = (~(observed_interactions_df['review_text_incomplete'] == '')).unstack().fillna(0)\n",
    "user_book_interactions = user_book_read + user_book_ratings + user_book_reviewed\n",
    "similarity_matrix = cosine_similarity(user_book_ratings.transpose())\n",
    "item_item_sim = pd.DataFrame(similarity_matrix, index=user_book_ratings.columns, columns=user_book_ratings.columns)"
   ]
  },
  {
   "cell_type": "code",
   "execution_count": 143,
   "metadata": {},
   "outputs": [
    {
     "data": {
      "text/html": [
       "<div>\n",
       "<style scoped>\n",
       "    .dataframe tbody tr th:only-of-type {\n",
       "        vertical-align: middle;\n",
       "    }\n",
       "\n",
       "    .dataframe tbody tr th {\n",
       "        vertical-align: top;\n",
       "    }\n",
       "\n",
       "    .dataframe thead th {\n",
       "        text-align: right;\n",
       "    }\n",
       "</style>\n",
       "<table border=\"1\" class=\"dataframe\">\n",
       "  <thead>\n",
       "    <tr style=\"text-align: right;\">\n",
       "      <th>book_id</th>\n",
       "      <th>13163846</th>\n",
       "      <th>472331</th>\n",
       "      <th>24815</th>\n",
       "      <th>24818</th>\n",
       "      <th>59715</th>\n",
       "      <th>24816</th>\n",
       "      <th>9516</th>\n",
       "      <th>13284343</th>\n",
       "      <th>13284283</th>\n",
       "      <th>18465601</th>\n",
       "      <th>...</th>\n",
       "      <th>15799936</th>\n",
       "      <th>6533687</th>\n",
       "      <th>15720319</th>\n",
       "      <th>12033364</th>\n",
       "      <th>892777</th>\n",
       "      <th>103658</th>\n",
       "      <th>109648</th>\n",
       "      <th>6519892</th>\n",
       "      <th>5211815</th>\n",
       "      <th>3186100</th>\n",
       "    </tr>\n",
       "    <tr>\n",
       "      <th>book_id</th>\n",
       "      <th></th>\n",
       "      <th></th>\n",
       "      <th></th>\n",
       "      <th></th>\n",
       "      <th></th>\n",
       "      <th></th>\n",
       "      <th></th>\n",
       "      <th></th>\n",
       "      <th></th>\n",
       "      <th></th>\n",
       "      <th></th>\n",
       "      <th></th>\n",
       "      <th></th>\n",
       "      <th></th>\n",
       "      <th></th>\n",
       "      <th></th>\n",
       "      <th></th>\n",
       "      <th></th>\n",
       "      <th></th>\n",
       "      <th></th>\n",
       "      <th></th>\n",
       "    </tr>\n",
       "  </thead>\n",
       "  <tbody>\n",
       "    <tr>\n",
       "      <th>13163846</th>\n",
       "      <td>1.0</td>\n",
       "      <td>0.0</td>\n",
       "      <td>0.0</td>\n",
       "      <td>0.0</td>\n",
       "      <td>0.0</td>\n",
       "      <td>0.0</td>\n",
       "      <td>0.000000</td>\n",
       "      <td>0.0</td>\n",
       "      <td>0.0</td>\n",
       "      <td>0.0</td>\n",
       "      <td>...</td>\n",
       "      <td>1.0</td>\n",
       "      <td>1.0</td>\n",
       "      <td>1.0</td>\n",
       "      <td>0.0</td>\n",
       "      <td>0.0</td>\n",
       "      <td>0.0</td>\n",
       "      <td>0.0</td>\n",
       "      <td>0.0</td>\n",
       "      <td>0.0</td>\n",
       "      <td>0.0</td>\n",
       "    </tr>\n",
       "    <tr>\n",
       "      <th>472331</th>\n",
       "      <td>0.0</td>\n",
       "      <td>1.0</td>\n",
       "      <td>0.0</td>\n",
       "      <td>0.0</td>\n",
       "      <td>0.0</td>\n",
       "      <td>0.0</td>\n",
       "      <td>0.155736</td>\n",
       "      <td>0.0</td>\n",
       "      <td>0.0</td>\n",
       "      <td>0.0</td>\n",
       "      <td>...</td>\n",
       "      <td>0.0</td>\n",
       "      <td>0.0</td>\n",
       "      <td>0.0</td>\n",
       "      <td>0.0</td>\n",
       "      <td>0.0</td>\n",
       "      <td>0.0</td>\n",
       "      <td>0.0</td>\n",
       "      <td>0.0</td>\n",
       "      <td>0.0</td>\n",
       "      <td>0.0</td>\n",
       "    </tr>\n",
       "    <tr>\n",
       "      <th>24815</th>\n",
       "      <td>0.0</td>\n",
       "      <td>0.0</td>\n",
       "      <td>1.0</td>\n",
       "      <td>1.0</td>\n",
       "      <td>1.0</td>\n",
       "      <td>1.0</td>\n",
       "      <td>0.000000</td>\n",
       "      <td>0.0</td>\n",
       "      <td>0.0</td>\n",
       "      <td>0.0</td>\n",
       "      <td>...</td>\n",
       "      <td>0.0</td>\n",
       "      <td>0.0</td>\n",
       "      <td>0.0</td>\n",
       "      <td>0.0</td>\n",
       "      <td>0.0</td>\n",
       "      <td>0.0</td>\n",
       "      <td>0.0</td>\n",
       "      <td>0.0</td>\n",
       "      <td>0.0</td>\n",
       "      <td>0.0</td>\n",
       "    </tr>\n",
       "    <tr>\n",
       "      <th>24818</th>\n",
       "      <td>0.0</td>\n",
       "      <td>0.0</td>\n",
       "      <td>1.0</td>\n",
       "      <td>1.0</td>\n",
       "      <td>1.0</td>\n",
       "      <td>1.0</td>\n",
       "      <td>0.000000</td>\n",
       "      <td>0.0</td>\n",
       "      <td>0.0</td>\n",
       "      <td>0.0</td>\n",
       "      <td>...</td>\n",
       "      <td>0.0</td>\n",
       "      <td>0.0</td>\n",
       "      <td>0.0</td>\n",
       "      <td>0.0</td>\n",
       "      <td>0.0</td>\n",
       "      <td>0.0</td>\n",
       "      <td>0.0</td>\n",
       "      <td>0.0</td>\n",
       "      <td>0.0</td>\n",
       "      <td>0.0</td>\n",
       "    </tr>\n",
       "    <tr>\n",
       "      <th>59715</th>\n",
       "      <td>0.0</td>\n",
       "      <td>0.0</td>\n",
       "      <td>1.0</td>\n",
       "      <td>1.0</td>\n",
       "      <td>1.0</td>\n",
       "      <td>1.0</td>\n",
       "      <td>0.000000</td>\n",
       "      <td>0.0</td>\n",
       "      <td>0.0</td>\n",
       "      <td>0.0</td>\n",
       "      <td>...</td>\n",
       "      <td>0.0</td>\n",
       "      <td>0.0</td>\n",
       "      <td>0.0</td>\n",
       "      <td>0.0</td>\n",
       "      <td>0.0</td>\n",
       "      <td>0.0</td>\n",
       "      <td>0.0</td>\n",
       "      <td>0.0</td>\n",
       "      <td>0.0</td>\n",
       "      <td>0.0</td>\n",
       "    </tr>\n",
       "    <tr>\n",
       "      <th>...</th>\n",
       "      <td>...</td>\n",
       "      <td>...</td>\n",
       "      <td>...</td>\n",
       "      <td>...</td>\n",
       "      <td>...</td>\n",
       "      <td>...</td>\n",
       "      <td>...</td>\n",
       "      <td>...</td>\n",
       "      <td>...</td>\n",
       "      <td>...</td>\n",
       "      <td>...</td>\n",
       "      <td>...</td>\n",
       "      <td>...</td>\n",
       "      <td>...</td>\n",
       "      <td>...</td>\n",
       "      <td>...</td>\n",
       "      <td>...</td>\n",
       "      <td>...</td>\n",
       "      <td>...</td>\n",
       "      <td>...</td>\n",
       "      <td>...</td>\n",
       "    </tr>\n",
       "    <tr>\n",
       "      <th>103658</th>\n",
       "      <td>0.0</td>\n",
       "      <td>0.0</td>\n",
       "      <td>0.0</td>\n",
       "      <td>0.0</td>\n",
       "      <td>0.0</td>\n",
       "      <td>0.0</td>\n",
       "      <td>0.000000</td>\n",
       "      <td>0.0</td>\n",
       "      <td>0.0</td>\n",
       "      <td>0.0</td>\n",
       "      <td>...</td>\n",
       "      <td>0.0</td>\n",
       "      <td>0.0</td>\n",
       "      <td>0.0</td>\n",
       "      <td>0.0</td>\n",
       "      <td>1.0</td>\n",
       "      <td>1.0</td>\n",
       "      <td>1.0</td>\n",
       "      <td>0.0</td>\n",
       "      <td>0.0</td>\n",
       "      <td>0.0</td>\n",
       "    </tr>\n",
       "    <tr>\n",
       "      <th>109648</th>\n",
       "      <td>0.0</td>\n",
       "      <td>0.0</td>\n",
       "      <td>0.0</td>\n",
       "      <td>0.0</td>\n",
       "      <td>0.0</td>\n",
       "      <td>0.0</td>\n",
       "      <td>0.000000</td>\n",
       "      <td>0.0</td>\n",
       "      <td>0.0</td>\n",
       "      <td>0.0</td>\n",
       "      <td>...</td>\n",
       "      <td>0.0</td>\n",
       "      <td>0.0</td>\n",
       "      <td>0.0</td>\n",
       "      <td>0.0</td>\n",
       "      <td>1.0</td>\n",
       "      <td>1.0</td>\n",
       "      <td>1.0</td>\n",
       "      <td>0.0</td>\n",
       "      <td>0.0</td>\n",
       "      <td>0.0</td>\n",
       "    </tr>\n",
       "    <tr>\n",
       "      <th>6519892</th>\n",
       "      <td>0.0</td>\n",
       "      <td>0.0</td>\n",
       "      <td>0.0</td>\n",
       "      <td>0.0</td>\n",
       "      <td>0.0</td>\n",
       "      <td>0.0</td>\n",
       "      <td>0.000000</td>\n",
       "      <td>0.0</td>\n",
       "      <td>0.0</td>\n",
       "      <td>0.0</td>\n",
       "      <td>...</td>\n",
       "      <td>0.0</td>\n",
       "      <td>0.0</td>\n",
       "      <td>0.0</td>\n",
       "      <td>0.0</td>\n",
       "      <td>0.0</td>\n",
       "      <td>0.0</td>\n",
       "      <td>0.0</td>\n",
       "      <td>1.0</td>\n",
       "      <td>1.0</td>\n",
       "      <td>1.0</td>\n",
       "    </tr>\n",
       "    <tr>\n",
       "      <th>5211815</th>\n",
       "      <td>0.0</td>\n",
       "      <td>0.0</td>\n",
       "      <td>0.0</td>\n",
       "      <td>0.0</td>\n",
       "      <td>0.0</td>\n",
       "      <td>0.0</td>\n",
       "      <td>0.000000</td>\n",
       "      <td>0.0</td>\n",
       "      <td>0.0</td>\n",
       "      <td>0.0</td>\n",
       "      <td>...</td>\n",
       "      <td>0.0</td>\n",
       "      <td>0.0</td>\n",
       "      <td>0.0</td>\n",
       "      <td>0.0</td>\n",
       "      <td>0.0</td>\n",
       "      <td>0.0</td>\n",
       "      <td>0.0</td>\n",
       "      <td>1.0</td>\n",
       "      <td>1.0</td>\n",
       "      <td>1.0</td>\n",
       "    </tr>\n",
       "    <tr>\n",
       "      <th>3186100</th>\n",
       "      <td>0.0</td>\n",
       "      <td>0.0</td>\n",
       "      <td>0.0</td>\n",
       "      <td>0.0</td>\n",
       "      <td>0.0</td>\n",
       "      <td>0.0</td>\n",
       "      <td>0.000000</td>\n",
       "      <td>0.0</td>\n",
       "      <td>0.0</td>\n",
       "      <td>0.0</td>\n",
       "      <td>...</td>\n",
       "      <td>0.0</td>\n",
       "      <td>0.0</td>\n",
       "      <td>0.0</td>\n",
       "      <td>0.0</td>\n",
       "      <td>0.0</td>\n",
       "      <td>0.0</td>\n",
       "      <td>0.0</td>\n",
       "      <td>1.0</td>\n",
       "      <td>1.0</td>\n",
       "      <td>1.0</td>\n",
       "    </tr>\n",
       "  </tbody>\n",
       "</table>\n",
       "<p>1352 rows × 1352 columns</p>\n",
       "</div>"
      ],
      "text/plain": [
       "book_id   13163846  472331  24815  24818  59715  24816      9516  13284343  \\\n",
       "book_id                                                                      \n",
       "13163846       1.0     0.0    0.0    0.0    0.0    0.0  0.000000       0.0   \n",
       "472331         0.0     1.0    0.0    0.0    0.0    0.0  0.155736       0.0   \n",
       "24815          0.0     0.0    1.0    1.0    1.0    1.0  0.000000       0.0   \n",
       "24818          0.0     0.0    1.0    1.0    1.0    1.0  0.000000       0.0   \n",
       "59715          0.0     0.0    1.0    1.0    1.0    1.0  0.000000       0.0   \n",
       "...            ...     ...    ...    ...    ...    ...       ...       ...   \n",
       "103658         0.0     0.0    0.0    0.0    0.0    0.0  0.000000       0.0   \n",
       "109648         0.0     0.0    0.0    0.0    0.0    0.0  0.000000       0.0   \n",
       "6519892        0.0     0.0    0.0    0.0    0.0    0.0  0.000000       0.0   \n",
       "5211815        0.0     0.0    0.0    0.0    0.0    0.0  0.000000       0.0   \n",
       "3186100        0.0     0.0    0.0    0.0    0.0    0.0  0.000000       0.0   \n",
       "\n",
       "book_id   13284283  18465601  ...  15799936  6533687  15720319  12033364  \\\n",
       "book_id                       ...                                          \n",
       "13163846       0.0       0.0  ...       1.0      1.0       1.0       0.0   \n",
       "472331         0.0       0.0  ...       0.0      0.0       0.0       0.0   \n",
       "24815          0.0       0.0  ...       0.0      0.0       0.0       0.0   \n",
       "24818          0.0       0.0  ...       0.0      0.0       0.0       0.0   \n",
       "59715          0.0       0.0  ...       0.0      0.0       0.0       0.0   \n",
       "...            ...       ...  ...       ...      ...       ...       ...   \n",
       "103658         0.0       0.0  ...       0.0      0.0       0.0       0.0   \n",
       "109648         0.0       0.0  ...       0.0      0.0       0.0       0.0   \n",
       "6519892        0.0       0.0  ...       0.0      0.0       0.0       0.0   \n",
       "5211815        0.0       0.0  ...       0.0      0.0       0.0       0.0   \n",
       "3186100        0.0       0.0  ...       0.0      0.0       0.0       0.0   \n",
       "\n",
       "book_id   892777  103658  109648  6519892  5211815  3186100  \n",
       "book_id                                                      \n",
       "13163846     0.0     0.0     0.0      0.0      0.0      0.0  \n",
       "472331       0.0     0.0     0.0      0.0      0.0      0.0  \n",
       "24815        0.0     0.0     0.0      0.0      0.0      0.0  \n",
       "24818        0.0     0.0     0.0      0.0      0.0      0.0  \n",
       "59715        0.0     0.0     0.0      0.0      0.0      0.0  \n",
       "...          ...     ...     ...      ...      ...      ...  \n",
       "103658       1.0     1.0     1.0      0.0      0.0      0.0  \n",
       "109648       1.0     1.0     1.0      0.0      0.0      0.0  \n",
       "6519892      0.0     0.0     0.0      1.0      1.0      1.0  \n",
       "5211815      0.0     0.0     0.0      1.0      1.0      1.0  \n",
       "3186100      0.0     0.0     0.0      1.0      1.0      1.0  \n",
       "\n",
       "[1352 rows x 1352 columns]"
      ]
     },
     "execution_count": 143,
     "metadata": {},
     "output_type": "execute_result"
    }
   ],
   "source": [
    "central_items = item_item_sim[item_item_sim.sum() > 0].index\n",
    "item_item_sim.loc[central_items, central_items]"
   ]
  },
  {
   "cell_type": "code",
   "execution_count": 116,
   "metadata": {},
   "outputs": [
    {
     "data": {
      "text/plain": [
       "book_id\n",
       "6902644      0.000000\n",
       "9844623      0.000000\n",
       "13163846     7.346008\n",
       "1137635      0.000000\n",
       "44735        0.000000\n",
       "              ...    \n",
       "93371        0.000000\n",
       "781206       0.000000\n",
       "3186100     13.496605\n",
       "271207       0.000000\n",
       "403459       0.000000\n",
       "Length: 1782, dtype: float64"
      ]
     },
     "execution_count": 116,
     "metadata": {},
     "output_type": "execute_result"
    }
   ],
   "source": [
    "item_item_sim.sum()"
   ]
  },
  {
   "cell_type": "code",
   "execution_count": 89,
   "metadata": {},
   "outputs": [
    {
     "data": {
      "text/plain": [
       "book_id\n",
       "6902644     0.0\n",
       "9844623     0.0\n",
       "13163846    5.0\n",
       "1137635     0.0\n",
       "44735       0.0\n",
       "           ... \n",
       "93371       0.0\n",
       "781206      0.0\n",
       "3186100     3.0\n",
       "271207      0.0\n",
       "403459      0.0\n",
       "Length: 1782, dtype: float64"
      ]
     },
     "execution_count": 89,
     "metadata": {},
     "output_type": "execute_result"
    }
   ],
   "source": [
    "user_book_shelvings.sum()"
   ]
  },
  {
   "cell_type": "code",
   "execution_count": 97,
   "metadata": {},
   "outputs": [
    {
     "data": {
      "text/html": [
       "<div>\n",
       "<style scoped>\n",
       "    .dataframe tbody tr th:only-of-type {\n",
       "        vertical-align: middle;\n",
       "    }\n",
       "\n",
       "    .dataframe tbody tr th {\n",
       "        vertical-align: top;\n",
       "    }\n",
       "\n",
       "    .dataframe thead th {\n",
       "        text-align: right;\n",
       "    }\n",
       "</style>\n",
       "<table border=\"1\" class=\"dataframe\">\n",
       "  <thead>\n",
       "    <tr style=\"text-align: right;\">\n",
       "      <th></th>\n",
       "      <th></th>\n",
       "      <th>review_id</th>\n",
       "      <th>is_read</th>\n",
       "      <th>rating</th>\n",
       "      <th>review_text_incomplete</th>\n",
       "      <th>date_added</th>\n",
       "      <th>date_updated</th>\n",
       "      <th>read_at</th>\n",
       "      <th>started_at</th>\n",
       "    </tr>\n",
       "    <tr>\n",
       "      <th>user_id</th>\n",
       "      <th>book_id</th>\n",
       "      <th></th>\n",
       "      <th></th>\n",
       "      <th></th>\n",
       "      <th></th>\n",
       "      <th></th>\n",
       "      <th></th>\n",
       "      <th></th>\n",
       "      <th></th>\n",
       "    </tr>\n",
       "  </thead>\n",
       "  <tbody>\n",
       "    <tr>\n",
       "      <th>5752e83b5c1ccdd8014aaf358b80c199</th>\n",
       "      <th>403459</th>\n",
       "      <td>2f3c77413155b26cab1ab9ed9bcf44ef</td>\n",
       "      <td>False</td>\n",
       "      <td>0</td>\n",
       "      <td></td>\n",
       "      <td>2008-03-24 23:21:39+00:00</td>\n",
       "      <td>2008-03-24 23:21:46+00:00</td>\n",
       "      <td>NaT</td>\n",
       "      <td>NaT</td>\n",
       "    </tr>\n",
       "  </tbody>\n",
       "</table>\n",
       "</div>"
      ],
      "text/plain": [
       "                                                                 review_id  \\\n",
       "user_id                          book_id                                     \n",
       "5752e83b5c1ccdd8014aaf358b80c199 403459   2f3c77413155b26cab1ab9ed9bcf44ef   \n",
       "\n",
       "                                          is_read  rating  \\\n",
       "user_id                          book_id                    \n",
       "5752e83b5c1ccdd8014aaf358b80c199 403459     False       0   \n",
       "\n",
       "                                         review_text_incomplete  \\\n",
       "user_id                          book_id                          \n",
       "5752e83b5c1ccdd8014aaf358b80c199 403459                           \n",
       "\n",
       "                                                        date_added  \\\n",
       "user_id                          book_id                             \n",
       "5752e83b5c1ccdd8014aaf358b80c199 403459  2008-03-24 23:21:39+00:00   \n",
       "\n",
       "                                                      date_updated read_at  \\\n",
       "user_id                          book_id                                     \n",
       "5752e83b5c1ccdd8014aaf358b80c199 403459  2008-03-24 23:21:46+00:00     NaT   \n",
       "\n",
       "                                         started_at  \n",
       "user_id                          book_id             \n",
       "5752e83b5c1ccdd8014aaf358b80c199 403459         NaT  "
      ]
     },
     "execution_count": 97,
     "metadata": {},
     "output_type": "execute_result"
    }
   ],
   "source": [
    "observed_interactions_df.loc[(slice(None), '403459'), :]"
   ]
  },
  {
   "cell_type": "code",
   "execution_count": 104,
   "metadata": {},
   "outputs": [],
   "source": [
    "user_book_read = observed_interactions_df['is_read'].unstack().fillna(0)\n",
    "user_book_ratings = observed_interactions_df['rating'].unstack().fillna(0)\n",
    "user_book_reviewed = (observed_interactions_df['review_text_incomplete'] == '').unstack().fillna(0)"
   ]
  },
  {
   "cell_type": "code",
   "execution_count": 107,
   "metadata": {},
   "outputs": [
    {
     "data": {
      "text/html": [
       "<div>\n",
       "<style scoped>\n",
       "    .dataframe tbody tr th:only-of-type {\n",
       "        vertical-align: middle;\n",
       "    }\n",
       "\n",
       "    .dataframe tbody tr th {\n",
       "        vertical-align: top;\n",
       "    }\n",
       "\n",
       "    .dataframe thead th {\n",
       "        text-align: right;\n",
       "    }\n",
       "</style>\n",
       "<table border=\"1\" class=\"dataframe\">\n",
       "  <thead>\n",
       "    <tr style=\"text-align: right;\">\n",
       "      <th>book_id</th>\n",
       "      <th>6902644</th>\n",
       "      <th>9844623</th>\n",
       "      <th>13163846</th>\n",
       "      <th>1137635</th>\n",
       "      <th>44735</th>\n",
       "      <th>472331</th>\n",
       "      <th>24815</th>\n",
       "      <th>24818</th>\n",
       "      <th>59715</th>\n",
       "      <th>24816</th>\n",
       "      <th>...</th>\n",
       "      <th>5211815</th>\n",
       "      <th>93376</th>\n",
       "      <th>93374</th>\n",
       "      <th>93372</th>\n",
       "      <th>93370</th>\n",
       "      <th>93371</th>\n",
       "      <th>781206</th>\n",
       "      <th>3186100</th>\n",
       "      <th>271207</th>\n",
       "      <th>403459</th>\n",
       "    </tr>\n",
       "    <tr>\n",
       "      <th>user_id</th>\n",
       "      <th></th>\n",
       "      <th></th>\n",
       "      <th></th>\n",
       "      <th></th>\n",
       "      <th></th>\n",
       "      <th></th>\n",
       "      <th></th>\n",
       "      <th></th>\n",
       "      <th></th>\n",
       "      <th></th>\n",
       "      <th></th>\n",
       "      <th></th>\n",
       "      <th></th>\n",
       "      <th></th>\n",
       "      <th></th>\n",
       "      <th></th>\n",
       "      <th></th>\n",
       "      <th></th>\n",
       "      <th></th>\n",
       "      <th></th>\n",
       "      <th></th>\n",
       "    </tr>\n",
       "  </thead>\n",
       "  <tbody>\n",
       "    <tr>\n",
       "      <th>8842281e1d1347389f2ab93d60773d4d</th>\n",
       "      <td>1</td>\n",
       "      <td>1</td>\n",
       "      <td>1</td>\n",
       "      <td>1</td>\n",
       "      <td>1</td>\n",
       "      <td>1</td>\n",
       "      <td>7</td>\n",
       "      <td>7</td>\n",
       "      <td>7</td>\n",
       "      <td>7</td>\n",
       "      <td>...</td>\n",
       "      <td>0</td>\n",
       "      <td>0</td>\n",
       "      <td>0</td>\n",
       "      <td>0</td>\n",
       "      <td>0</td>\n",
       "      <td>0</td>\n",
       "      <td>0</td>\n",
       "      <td>0</td>\n",
       "      <td>0</td>\n",
       "      <td>0</td>\n",
       "    </tr>\n",
       "    <tr>\n",
       "      <th>d986f354a045ffb91234e4af4d1b12fd</th>\n",
       "      <td>0</td>\n",
       "      <td>0</td>\n",
       "      <td>0</td>\n",
       "      <td>0</td>\n",
       "      <td>0</td>\n",
       "      <td>0</td>\n",
       "      <td>0</td>\n",
       "      <td>0</td>\n",
       "      <td>0</td>\n",
       "      <td>0</td>\n",
       "      <td>...</td>\n",
       "      <td>0</td>\n",
       "      <td>0</td>\n",
       "      <td>0</td>\n",
       "      <td>0</td>\n",
       "      <td>0</td>\n",
       "      <td>0</td>\n",
       "      <td>0</td>\n",
       "      <td>0</td>\n",
       "      <td>0</td>\n",
       "      <td>0</td>\n",
       "    </tr>\n",
       "    <tr>\n",
       "      <th>7504b2aee1ecb5b2872d3da381c6c91e</th>\n",
       "      <td>0</td>\n",
       "      <td>0</td>\n",
       "      <td>0</td>\n",
       "      <td>0</td>\n",
       "      <td>0</td>\n",
       "      <td>0</td>\n",
       "      <td>0</td>\n",
       "      <td>0</td>\n",
       "      <td>0</td>\n",
       "      <td>0</td>\n",
       "      <td>...</td>\n",
       "      <td>0</td>\n",
       "      <td>0</td>\n",
       "      <td>0</td>\n",
       "      <td>0</td>\n",
       "      <td>0</td>\n",
       "      <td>0</td>\n",
       "      <td>0</td>\n",
       "      <td>0</td>\n",
       "      <td>0</td>\n",
       "      <td>0</td>\n",
       "    </tr>\n",
       "    <tr>\n",
       "      <th>f8a89075dc6de14857561522e729f82c</th>\n",
       "      <td>0</td>\n",
       "      <td>0</td>\n",
       "      <td>0</td>\n",
       "      <td>0</td>\n",
       "      <td>0</td>\n",
       "      <td>0</td>\n",
       "      <td>0</td>\n",
       "      <td>0</td>\n",
       "      <td>0</td>\n",
       "      <td>0</td>\n",
       "      <td>...</td>\n",
       "      <td>0</td>\n",
       "      <td>0</td>\n",
       "      <td>0</td>\n",
       "      <td>0</td>\n",
       "      <td>0</td>\n",
       "      <td>0</td>\n",
       "      <td>0</td>\n",
       "      <td>0</td>\n",
       "      <td>0</td>\n",
       "      <td>0</td>\n",
       "    </tr>\n",
       "    <tr>\n",
       "      <th>47d4a49ae9ee68ae78d891b3a259b695</th>\n",
       "      <td>0</td>\n",
       "      <td>0</td>\n",
       "      <td>0</td>\n",
       "      <td>0</td>\n",
       "      <td>0</td>\n",
       "      <td>0</td>\n",
       "      <td>0</td>\n",
       "      <td>0</td>\n",
       "      <td>0</td>\n",
       "      <td>0</td>\n",
       "      <td>...</td>\n",
       "      <td>0</td>\n",
       "      <td>0</td>\n",
       "      <td>0</td>\n",
       "      <td>0</td>\n",
       "      <td>0</td>\n",
       "      <td>0</td>\n",
       "      <td>0</td>\n",
       "      <td>0</td>\n",
       "      <td>0</td>\n",
       "      <td>0</td>\n",
       "    </tr>\n",
       "    <tr>\n",
       "      <th>...</th>\n",
       "      <td>...</td>\n",
       "      <td>...</td>\n",
       "      <td>...</td>\n",
       "      <td>...</td>\n",
       "      <td>...</td>\n",
       "      <td>...</td>\n",
       "      <td>...</td>\n",
       "      <td>...</td>\n",
       "      <td>...</td>\n",
       "      <td>...</td>\n",
       "      <td>...</td>\n",
       "      <td>...</td>\n",
       "      <td>...</td>\n",
       "      <td>...</td>\n",
       "      <td>...</td>\n",
       "      <td>...</td>\n",
       "      <td>...</td>\n",
       "      <td>...</td>\n",
       "      <td>...</td>\n",
       "      <td>...</td>\n",
       "      <td>...</td>\n",
       "    </tr>\n",
       "    <tr>\n",
       "      <th>af5cabf2c2c2ea2fab00c261d28a98d2</th>\n",
       "      <td>0</td>\n",
       "      <td>0</td>\n",
       "      <td>0</td>\n",
       "      <td>0</td>\n",
       "      <td>0</td>\n",
       "      <td>0</td>\n",
       "      <td>0</td>\n",
       "      <td>0</td>\n",
       "      <td>0</td>\n",
       "      <td>0</td>\n",
       "      <td>...</td>\n",
       "      <td>0</td>\n",
       "      <td>0</td>\n",
       "      <td>0</td>\n",
       "      <td>0</td>\n",
       "      <td>0</td>\n",
       "      <td>0</td>\n",
       "      <td>0</td>\n",
       "      <td>0</td>\n",
       "      <td>0</td>\n",
       "      <td>0</td>\n",
       "    </tr>\n",
       "    <tr>\n",
       "      <th>d129e49f79b8b524235beb78175c6d86</th>\n",
       "      <td>0</td>\n",
       "      <td>0</td>\n",
       "      <td>7</td>\n",
       "      <td>0</td>\n",
       "      <td>0</td>\n",
       "      <td>0</td>\n",
       "      <td>0</td>\n",
       "      <td>0</td>\n",
       "      <td>0</td>\n",
       "      <td>0</td>\n",
       "      <td>...</td>\n",
       "      <td>0</td>\n",
       "      <td>0</td>\n",
       "      <td>0</td>\n",
       "      <td>0</td>\n",
       "      <td>0</td>\n",
       "      <td>0</td>\n",
       "      <td>0</td>\n",
       "      <td>0</td>\n",
       "      <td>0</td>\n",
       "      <td>0</td>\n",
       "    </tr>\n",
       "    <tr>\n",
       "      <th>230abf981fe20f575be43c971da73801</th>\n",
       "      <td>0</td>\n",
       "      <td>0</td>\n",
       "      <td>0</td>\n",
       "      <td>0</td>\n",
       "      <td>0</td>\n",
       "      <td>0</td>\n",
       "      <td>0</td>\n",
       "      <td>0</td>\n",
       "      <td>0</td>\n",
       "      <td>0</td>\n",
       "      <td>...</td>\n",
       "      <td>0</td>\n",
       "      <td>0</td>\n",
       "      <td>0</td>\n",
       "      <td>0</td>\n",
       "      <td>0</td>\n",
       "      <td>0</td>\n",
       "      <td>0</td>\n",
       "      <td>0</td>\n",
       "      <td>0</td>\n",
       "      <td>0</td>\n",
       "    </tr>\n",
       "    <tr>\n",
       "      <th>035adc0475cd58b92ce8219a5140ea18</th>\n",
       "      <td>0</td>\n",
       "      <td>0</td>\n",
       "      <td>0</td>\n",
       "      <td>0</td>\n",
       "      <td>0</td>\n",
       "      <td>0</td>\n",
       "      <td>0</td>\n",
       "      <td>0</td>\n",
       "      <td>0</td>\n",
       "      <td>0</td>\n",
       "      <td>...</td>\n",
       "      <td>0</td>\n",
       "      <td>0</td>\n",
       "      <td>0</td>\n",
       "      <td>0</td>\n",
       "      <td>0</td>\n",
       "      <td>0</td>\n",
       "      <td>0</td>\n",
       "      <td>0</td>\n",
       "      <td>0</td>\n",
       "      <td>0</td>\n",
       "    </tr>\n",
       "    <tr>\n",
       "      <th>5752e83b5c1ccdd8014aaf358b80c199</th>\n",
       "      <td>0</td>\n",
       "      <td>0</td>\n",
       "      <td>0</td>\n",
       "      <td>0</td>\n",
       "      <td>0</td>\n",
       "      <td>0</td>\n",
       "      <td>0</td>\n",
       "      <td>0</td>\n",
       "      <td>0</td>\n",
       "      <td>0</td>\n",
       "      <td>...</td>\n",
       "      <td>6</td>\n",
       "      <td>1</td>\n",
       "      <td>1</td>\n",
       "      <td>1</td>\n",
       "      <td>1</td>\n",
       "      <td>1</td>\n",
       "      <td>1</td>\n",
       "      <td>5</td>\n",
       "      <td>1</td>\n",
       "      <td>1</td>\n",
       "    </tr>\n",
       "  </tbody>\n",
       "</table>\n",
       "<p>158 rows × 1782 columns</p>\n",
       "</div>"
      ],
      "text/plain": [
       "book_id                          6902644 9844623 13163846 1137635 44735  \\\n",
       "user_id                                                                   \n",
       "8842281e1d1347389f2ab93d60773d4d       1       1        1       1     1   \n",
       "d986f354a045ffb91234e4af4d1b12fd       0       0        0       0     0   \n",
       "7504b2aee1ecb5b2872d3da381c6c91e       0       0        0       0     0   \n",
       "f8a89075dc6de14857561522e729f82c       0       0        0       0     0   \n",
       "47d4a49ae9ee68ae78d891b3a259b695       0       0        0       0     0   \n",
       "...                                  ...     ...      ...     ...   ...   \n",
       "af5cabf2c2c2ea2fab00c261d28a98d2       0       0        0       0     0   \n",
       "d129e49f79b8b524235beb78175c6d86       0       0        7       0     0   \n",
       "230abf981fe20f575be43c971da73801       0       0        0       0     0   \n",
       "035adc0475cd58b92ce8219a5140ea18       0       0        0       0     0   \n",
       "5752e83b5c1ccdd8014aaf358b80c199       0       0        0       0     0   \n",
       "\n",
       "book_id                          472331 24815 24818 59715 24816  ... 5211815  \\\n",
       "user_id                                                          ...           \n",
       "8842281e1d1347389f2ab93d60773d4d      1     7     7     7     7  ...       0   \n",
       "d986f354a045ffb91234e4af4d1b12fd      0     0     0     0     0  ...       0   \n",
       "7504b2aee1ecb5b2872d3da381c6c91e      0     0     0     0     0  ...       0   \n",
       "f8a89075dc6de14857561522e729f82c      0     0     0     0     0  ...       0   \n",
       "47d4a49ae9ee68ae78d891b3a259b695      0     0     0     0     0  ...       0   \n",
       "...                                 ...   ...   ...   ...   ...  ...     ...   \n",
       "af5cabf2c2c2ea2fab00c261d28a98d2      0     0     0     0     0  ...       0   \n",
       "d129e49f79b8b524235beb78175c6d86      0     0     0     0     0  ...       0   \n",
       "230abf981fe20f575be43c971da73801      0     0     0     0     0  ...       0   \n",
       "035adc0475cd58b92ce8219a5140ea18      0     0     0     0     0  ...       0   \n",
       "5752e83b5c1ccdd8014aaf358b80c199      0     0     0     0     0  ...       6   \n",
       "\n",
       "book_id                          93376 93374 93372 93370 93371 781206 3186100  \\\n",
       "user_id                                                                         \n",
       "8842281e1d1347389f2ab93d60773d4d     0     0     0     0     0      0       0   \n",
       "d986f354a045ffb91234e4af4d1b12fd     0     0     0     0     0      0       0   \n",
       "7504b2aee1ecb5b2872d3da381c6c91e     0     0     0     0     0      0       0   \n",
       "f8a89075dc6de14857561522e729f82c     0     0     0     0     0      0       0   \n",
       "47d4a49ae9ee68ae78d891b3a259b695     0     0     0     0     0      0       0   \n",
       "...                                ...   ...   ...   ...   ...    ...     ...   \n",
       "af5cabf2c2c2ea2fab00c261d28a98d2     0     0     0     0     0      0       0   \n",
       "d129e49f79b8b524235beb78175c6d86     0     0     0     0     0      0       0   \n",
       "230abf981fe20f575be43c971da73801     0     0     0     0     0      0       0   \n",
       "035adc0475cd58b92ce8219a5140ea18     0     0     0     0     0      0       0   \n",
       "5752e83b5c1ccdd8014aaf358b80c199     1     1     1     1     1      1       5   \n",
       "\n",
       "book_id                          271207 403459  \n",
       "user_id                                         \n",
       "8842281e1d1347389f2ab93d60773d4d      0      0  \n",
       "d986f354a045ffb91234e4af4d1b12fd      0      0  \n",
       "7504b2aee1ecb5b2872d3da381c6c91e      0      0  \n",
       "f8a89075dc6de14857561522e729f82c      0      0  \n",
       "47d4a49ae9ee68ae78d891b3a259b695      0      0  \n",
       "...                                 ...    ...  \n",
       "af5cabf2c2c2ea2fab00c261d28a98d2      0      0  \n",
       "d129e49f79b8b524235beb78175c6d86      0      0  \n",
       "230abf981fe20f575be43c971da73801      0      0  \n",
       "035adc0475cd58b92ce8219a5140ea18      0      0  \n",
       "5752e83b5c1ccdd8014aaf358b80c199      1      1  \n",
       "\n",
       "[158 rows x 1782 columns]"
      ]
     },
     "execution_count": 107,
     "metadata": {},
     "output_type": "execute_result"
    }
   ],
   "source": [
    "user_book_interactions = user_book_read + user_book_ratings + user_book_reviewed\n",
    "user_book_interactions"
   ]
  },
  {
   "cell_type": "code",
   "execution_count": null,
   "metadata": {},
   "outputs": [],
   "source": []
  }
 ],
 "metadata": {
  "kernelspec": {
   "display_name": "Python 3",
   "language": "python",
   "name": "python3"
  },
  "language_info": {
   "codemirror_mode": {
    "name": "ipython",
    "version": 3
   },
   "file_extension": ".py",
   "mimetype": "text/x-python",
   "name": "python",
   "nbconvert_exporter": "python",
   "pygments_lexer": "ipython3",
   "version": "3.7.4"
  }
 },
 "nbformat": 4,
 "nbformat_minor": 4
}
