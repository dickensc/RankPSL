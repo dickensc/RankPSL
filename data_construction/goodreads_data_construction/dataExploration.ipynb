{
 "cells": [
  {
   "cell_type": "code",
   "execution_count": 395,
   "metadata": {},
   "outputs": [],
   "source": [
    "import gzip\n",
    "import json\n",
    "import re\n",
    "import os\n",
    "import sys\n",
    "import numpy as np\n",
    "import pandas as pd\n",
    "from predicate_construction import construct_predicates "
   ]
  },
  {
   "cell_type": "markdown",
   "metadata": {},
   "source": [
    "# Read in GoodReads dataset"
   ]
  },
  {
   "cell_type": "code",
   "execution_count": 110,
   "metadata": {},
   "outputs": [],
   "source": [
    "DIR = '/Users/charlesdickens/Documents/GitHub/RankPSL/data_construction/goodreads_data_construction'"
   ]
  },
  {
   "cell_type": "code",
   "execution_count": 111,
   "metadata": {},
   "outputs": [],
   "source": [
    "def load_data(file_name, head = None):\n",
    "    count = 0\n",
    "    data = []\n",
    "    with gzip.open(file_name) as fin:\n",
    "        for l in fin:\n",
    "            d = json.loads(l)\n",
    "            count += 1\n",
    "            data.append(d)\n",
    "            \n",
    "            # break if reaches the 100th line\n",
    "            if (head) and (count > head):\n",
    "                break\n",
    "    return data"
   ]
  },
  {
   "cell_type": "code",
   "execution_count": 183,
   "metadata": {},
   "outputs": [],
   "source": [
    "books = load_data(os.path.join(DIR, 'goodreads_books_comics_graphic.json.gz'))\n",
    "interactions = load_data(os.path.join(DIR, 'goodreads_interactions_comics_graphic.json.gz'), head=1000)\n",
    "reviews = load_data(os.path.join(DIR, 'goodreads_reviews_comics_graphic.json.gz'))"
   ]
  },
  {
   "cell_type": "code",
   "execution_count": 284,
   "metadata": {},
   "outputs": [],
   "source": [
    "# build pandas frame for each dataset\n",
    "books_df = pd.DataFrame(books)\n",
    "books_df = books_df.set_index('book_id')\n",
    "interactions_df = pd.DataFrame(interactions)\n",
    "interactions_df = interactions_df.set_index(['user_id', 'book_id'])\n",
    "reviews_df = pd.DataFrame(reviews)\n",
    "reviews_df.set_index(['review_id'])"
   ]
  },
  {
   "cell_type": "code",
   "execution_count": 286,
   "metadata": {},
   "outputs": [],
   "source": [
    "# for Development\n",
    "# pull out books that are not in interactions dataframe\n",
    "books_df = books_df.loc[interactions_df.index.unique(level='book_id')]\n",
    "# pull out reviews by users not in interactions dataframe\n",
    "# pull out reviews for book not in interactions dataframe\n",
    "reviews_df = reviews_df.loc[reviews_df.book_id.isin(interactions_df.index.unique(level='book_id'))]\n",
    "reviews_df = reviews_df.loc[reviews_df.user_id.isin(interactions_df.index.unique(level='user_id'))]"
   ]
  },
  {
   "cell_type": "code",
   "execution_count": 287,
   "metadata": {},
   "outputs": [
    {
     "data": {
      "text/plain": [
       "(743, 28)"
      ]
     },
     "metadata": {},
     "output_type": "display_data"
    },
    {
     "data": {
      "text/plain": [
       "Index(['isbn', 'text_reviews_count', 'series', 'country_code', 'language_code',\n",
       "       'popular_shelves', 'asin', 'is_ebook', 'average_rating', 'kindle_asin',\n",
       "       'similar_books', 'description', 'format', 'link', 'authors',\n",
       "       'publisher', 'num_pages', 'publication_day', 'isbn13',\n",
       "       'publication_month', 'edition_information', 'publication_year', 'url',\n",
       "       'image_url', 'ratings_count', 'work_id', 'title',\n",
       "       'title_without_series'],\n",
       "      dtype='object')"
      ]
     },
     "execution_count": 287,
     "metadata": {},
     "output_type": "execute_result"
    }
   ],
   "source": [
    "display(books_df.shape)\n",
    "books_df.columns"
   ]
  },
  {
   "cell_type": "code",
   "execution_count": 288,
   "metadata": {},
   "outputs": [
    {
     "data": {
      "text/plain": [
       "(1001, 8)"
      ]
     },
     "metadata": {},
     "output_type": "display_data"
    },
    {
     "data": {
      "text/plain": [
       "Index(['review_id', 'is_read', 'rating', 'review_text_incomplete',\n",
       "       'date_added', 'date_updated', 'read_at', 'started_at'],\n",
       "      dtype='object')"
      ]
     },
     "execution_count": 288,
     "metadata": {},
     "output_type": "execute_result"
    }
   ],
   "source": [
    "display(interactions_df.shape)\n",
    "interactions_df.columns"
   ]
  },
  {
   "cell_type": "code",
   "execution_count": 289,
   "metadata": {},
   "outputs": [
    {
     "data": {
      "text/plain": [
       "(33, 11)"
      ]
     },
     "metadata": {},
     "output_type": "display_data"
    },
    {
     "data": {
      "text/plain": [
       "Index(['user_id', 'book_id', 'review_id', 'rating', 'review_text',\n",
       "       'date_added', 'date_updated', 'read_at', 'started_at', 'n_votes',\n",
       "       'n_comments'],\n",
       "      dtype='object')"
      ]
     },
     "execution_count": 289,
     "metadata": {},
     "output_type": "execute_result"
    }
   ],
   "source": [
    "display(reviews_df.shape)\n",
    "reviews_df.columns"
   ]
  },
  {
   "cell_type": "code",
   "execution_count": 290,
   "metadata": {},
   "outputs": [],
   "source": [
    "def f_memoize_pandas(s):\n",
    "    \"\"\"\n",
    "    Memoization technique\n",
    "    \"\"\"\n",
    "    dates = {date:pd.to_datetime(date, infer_datetime_format=True, utc=True) for date in s.unique()}\n",
    "    return s.map(dates)"
   ]
  },
  {
   "cell_type": "code",
   "execution_count": 291,
   "metadata": {},
   "outputs": [],
   "source": [
    "interactions_df.date_added = f_memoize_pandas(interactions_df.date_added)\n",
    "interactions_df.date_updated = f_memoize_pandas(interactions_df.date_updated)\n",
    "interactions_df.read_at = f_memoize_pandas(interactions_df.read_at)\n",
    "interactions_df.started_at = f_memoize_pandas(interactions_df.started_at)\n",
    "\n",
    "reviews_df.date_added = f_memoize_pandas(reviews_df.date_added)\n",
    "reviews_df.date_updated = f_memoize_pandas(reviews_df.date_updated)\n",
    "reviews_df.read_at = f_memoize_pandas(reviews_df.read_at)\n",
    "reviews_df.started_at = f_memoize_pandas(reviews_df.started_at)"
   ]
  },
  {
   "cell_type": "code",
   "execution_count": 292,
   "metadata": {},
   "outputs": [
    {
     "data": {
      "text/plain": [
       "Timestamp('2008-03-18 03:24:13+0000', tz='UTC')"
      ]
     },
     "metadata": {},
     "output_type": "display_data"
    },
    {
     "data": {
      "text/plain": [
       "Timestamp('2017-10-25 04:54:47+0000', tz='UTC')"
      ]
     },
     "metadata": {},
     "output_type": "display_data"
    },
    {
     "data": {
      "text/plain": [
       "<matplotlib.axes._subplots.AxesSubplot at 0x7fc19382cad0>"
      ]
     },
     "execution_count": 292,
     "metadata": {},
     "output_type": "execute_result"
    },
    {
     "data": {
      "image/png": "[encoded data removed]",
      "text/plain": [
       "<Figure size 432x288 with 1 Axes>"
      ]
     },
     "metadata": {
      "needs_background": "light"
     },
     "output_type": "display_data"
    }
   ],
   "source": [
    "# plot distribution of dates of date_added interactions\n",
    "display(interactions_df[\"date_added\"].min())\n",
    "display(interactions_df[\"date_added\"].max())\n",
    "interactions_df.groupby([interactions_df[\"date_added\"].dt.year])[\"rating\"].count().plot(kind=\"bar\")"
   ]
  },
  {
   "cell_type": "code",
   "execution_count": 293,
   "metadata": {},
   "outputs": [
    {
     "data": {
      "text/plain": [
       "Timestamp('2008-03-18 03:24:13+0000', tz='UTC')"
      ]
     },
     "metadata": {},
     "output_type": "display_data"
    },
    {
     "data": {
      "text/plain": [
       "Timestamp('2017-10-25 21:08:24+0000', tz='UTC')"
      ]
     },
     "metadata": {},
     "output_type": "display_data"
    },
    {
     "data": {
      "text/plain": [
       "<matplotlib.axes._subplots.AxesSubplot at 0x7fc3d2d23990>"
      ]
     },
     "execution_count": 293,
     "metadata": {},
     "output_type": "execute_result"
    },
    {
     "data": {
      "image/png": "[encoded data removed]",
      "text/plain": [
       "<Figure size 432x288 with 1 Axes>"
      ]
     },
     "metadata": {
      "needs_background": "light"
     },
     "output_type": "display_data"
    }
   ],
   "source": [
    "# plot distribution of dates of date_updated interactions\n",
    "display(interactions_df[\"date_updated\"].min())\n",
    "display(interactions_df[\"date_updated\"].max())\n",
    "interactions_df.groupby([interactions_df[\"date_updated\"].dt.year])[\"rating\"].count().plot(kind=\"bar\")"
   ]
  },
  {
   "cell_type": "markdown",
   "metadata": {},
   "source": [
    "Let every interaction with a book **starting** after 2017 be the test set.\n",
    "\n",
    "There looks like there is enough interactions to suffice for a test set.  "
   ]
  },
  {
   "cell_type": "markdown",
   "metadata": {},
   "source": [
    "# Partition train and test interaction data by 2017"
   ]
  },
  {
   "cell_type": "code",
   "execution_count": 421,
   "metadata": {},
   "outputs": [],
   "source": [
    "# Partition train and test data by 2017\n",
    "test_interactions_df = interactions_df[interactions_df.date_added.dt.year >= 2017 ]\n",
    "test_reviews_df = reviews_df[reviews_df.date_added.dt.year >= 2017]"
   ]
  },
  {
   "cell_type": "code",
   "execution_count": 422,
   "metadata": {},
   "outputs": [
    {
     "data": {
      "text/plain": [
       "<matplotlib.axes._subplots.AxesSubplot at 0x7fc1942aa310>"
      ]
     },
     "execution_count": 422,
     "metadata": {},
     "output_type": "execute_result"
    },
    {
     "data": {
      "image/png": "[encoded data removed]",
      "text/plain": [
       "<Figure size 432x288 with 1 Axes>"
      ]
     },
     "metadata": {
      "needs_background": "light"
     },
     "output_type": "display_data"
    }
   ],
   "source": [
    "test_interactions_df[test_interactions_df.rating != 0].groupby(\"rating\").rating.count().plot(kind=\"bar\")"
   ]
  },
  {
   "cell_type": "code",
   "execution_count": 423,
   "metadata": {},
   "outputs": [],
   "source": [
    "# Filter out the 0 ratings, those represent that the user has not yet provided their rating \n",
    "test_interactions_df = test_interactions_df[test_interactions_df.rating != 0]"
   ]
  },
  {
   "cell_type": "code",
   "execution_count": 297,
   "metadata": {},
   "outputs": [],
   "source": [
    "# Create train set\n",
    "train_interaction_df = interactions_df[interactions_df.date_added.dt.year < 2017 ]\n",
    "train_reviews_df = reviews_df[reviews_df.date_added.dt.year < 2017 ]"
   ]
  },
  {
   "cell_type": "code",
   "execution_count": null,
   "metadata": {},
   "outputs": [],
   "source": []
  },
  {
   "cell_type": "markdown",
   "metadata": {},
   "source": [
    "# First I would like a principled way to sample this dataset so we can \n",
    "\n",
    "1. get a fair estimate of generalization performance\n",
    "2. perform cross validation\n",
    "3. perform inferences on many small graphs that are good representatives of larger distribution to learn weights\n",
    "4. perform inferences on many small graphs that are good representatives of larger distribution to output an ensemble of inference predictions that can be aggregated by a voting procedure\n",
    "5. Combine a mixture of psl models. Each PSL model defines a distribution. The mixtures could come from a random walk sampling seeded at each of the targets."
   ]
  },
  {
   "cell_type": "code",
   "execution_count": null,
   "metadata": {},
   "outputs": [],
   "source": []
  },
  {
   "cell_type": "markdown",
   "metadata": {},
   "source": [
    "The models for predicting latent preferences are influenced by the structure of the graphs induced by the\n",
    "\n",
    "    - Relations amongst the books\n",
    "        - Authors relationship\n",
    "        - Genre relationship\n",
    "        - Series relationship\n",
    "        - user feedback patterns\n",
    "        \n",
    "    - Similarities amongst the users\n",
    "        - feedback similarites\n",
    "            - shelving \n",
    "            - read \n",
    "            - rating \n",
    "            - review \n",
    "        \n",
    "Perhaps we can sample both graphs induced by these relationship by seperately seeding a random walk at the targets and letting the random walk spread until a prespecified graph size is met.\n",
    "\n",
    "Then we can join these sampled graphs so that only users from the user sample and books from the book graph sample are used.\n",
    "\n",
    "To ensure information is not leaked across folds, we should note that the user similarities are based on their ratings of the books.\n",
    "\n",
    "*Note* that structural information is really only available among the books otherwise, the user relationships are latent and can be infered via rating habits.\n",
    "\n",
    "Perhaps first pass we sample from the book data set then randomly sample from users and filter so only books that were found in graph sampling are used in PSL model."
   ]
  },
  {
   "cell_type": "code",
   "execution_count": 298,
   "metadata": {},
   "outputs": [],
   "source": [
    "# create author to book data frame\n",
    "author_df = pd.DataFrame(columns=books_df.index)\n",
    "author_df.index.name = 'author_id'\n",
    "for book_id, book in books_df.iterrows():\n",
    "    for author in book.authors:\n",
    "        author_df.loc[author['author_id'], book.name] = 1"
   ]
  },
  {
   "cell_type": "code",
   "execution_count": 299,
   "metadata": {},
   "outputs": [],
   "source": [
    "# from author information create book_book_by_author_adj_matrix\n",
    "author_df = author_df.fillna(0)\n",
    "book_author_matrix = author_df.to_numpy().transpose()\n",
    "np.matmul(book_author_matrix, book_author_matrix.transpose()).shape\n",
    "book_book_by_author_adj_matrix = pd.DataFrame(np.matmul(book_author_matrix, book_author_matrix.transpose()), \n",
    "                                              index=books_df.index, columns=books_df.index)\n",
    "book_book_by_author_adj_matrix[book_book_by_author_adj_matrix >= 1] = 1\n",
    "\n",
    "# remove self loops\n",
    "book_book_by_author_adj_matrix = (book_book_by_author_adj_matrix - np.eye(book_book_by_author_adj_matrix.shape[0]))\n",
    "\n",
    "# build Author book graph\n",
    "book_author_graph = nx.convert_matrix.from_pandas_adjacency(book_book_by_author_adj_matrix)"
   ]
  },
  {
   "cell_type": "code",
   "execution_count": 300,
   "metadata": {},
   "outputs": [],
   "source": [
    "# create genre to book data frame, genre is from shelf names by users\n",
    "max_genres = 3\n",
    "genre_df = pd.DataFrame(columns=books_df.index)\n",
    "genre_df.index.name = 'genre'\n",
    "for book_id, book in books_df.iterrows():\n",
    "    n_genres = 0\n",
    "    for genre in book.popular_shelves:\n",
    "        if n_genres >= 3:\n",
    "            break\n",
    "        else:\n",
    "            if genre['name'] != 'to-read':\n",
    "                genre_df.loc[genre['name'], book.name] = 1\n",
    "                n_genres = n_genres + 1"
   ]
  },
  {
   "cell_type": "code",
   "execution_count": 301,
   "metadata": {},
   "outputs": [],
   "source": [
    "# from genre information create book_book_by_genre_adj_matrix\n",
    "genre_df = genre_df.fillna(0)\n",
    "book_genre_matrix = genre_df.to_numpy().transpose()\n",
    "np.matmul(book_genre_matrix, book_genre_matrix.transpose()).shape\n",
    "book_book_by_genre_adj_matrix = pd.DataFrame(np.matmul(book_genre_matrix, book_genre_matrix.transpose()),\n",
    "                                             index=books_df.index, columns=books_df.index)\n",
    "book_book_by_genre_adj_matrix[book_book_by_genre_adj_matrix >= 1] = 1\n",
    "\n",
    "# remove self loops\n",
    "book_book_by_author_adj_matrix = (book_book_by_author_adj_matrix - np.eye(book_book_by_author_adj_matrix.shape[0]))\n",
    "\n",
    "# build Author book graph\n",
    "book_genre_graph = nx.convert_matrix.from_pandas_adjacency(book_book_by_genre_adj_matrix)"
   ]
  },
  {
   "cell_type": "markdown",
   "metadata": {},
   "source": [
    "**Define the Graph Transition Matrix**\n",
    "\n",
    "A first pass approach is by simply overlapping the adjacency matrices, i.e. summing them, and then normalizing each row (or column) so the row values add to 1. We can then interpret these values as transition probabilities to perform a random walk.\n",
    "\n"
   ]
  },
  {
   "cell_type": "code",
   "execution_count": 302,
   "metadata": {},
   "outputs": [],
   "source": [
    "book_graph_transition = (book_book_by_author_adj_matrix + book_book_by_genre_adj_matrix)\n",
    "book_graph_transition = book_graph_transition / book_graph_transition.sum()"
   ]
  },
  {
   "cell_type": "markdown",
   "metadata": {},
   "source": [
    "**Method for sampling from dataset**"
   ]
  },
  {
   "cell_type": "code",
   "execution_count": 418,
   "metadata": {},
   "outputs": [],
   "source": [
    "def goodreads_train_sample(n, initial_state=None):\n",
    "    \"\"\"\n",
    "    Method for sampling from the goodreads dataset by performing a random walk on the book graph\n",
    "    starting at the initial state(s) provided\n",
    "    n: number of steps on the graph for each initial state\n",
    "    initial_state: array of starting points for random walk on graph\n",
    "    return: Sampled books_df, interactions_df, and reviews_df \n",
    "    \"\"\"\n",
    "    # set initial state, if it was not passed, to a single random book\n",
    "    if initial_state is None:\n",
    "        initial_state = np.random.choice(books_df.index, 1)\n",
    "        \n",
    "    # obtain random walk sample of books\n",
    "    sampled_books = set(list(initial_state))\n",
    "    for state_0 in initial_state:\n",
    "        state = state_0\n",
    "        for i in range(n):\n",
    "            transition_dist = book_graph_transition[state]\n",
    "            state = np.random.choice(book_graph_transition.index, 1, p=transition_dist)[0]\n",
    "            sampled_books.add(state)\n",
    "\n",
    "    # use books to sample datasets\n",
    "    sampled_books_df = books_df.loc[sampled_books, :]\n",
    "    sampled_interactions_df = train_interaction_df.loc[(slice(None), sampled_books), :]\n",
    "    sampled_reviews_df = train_review_df[train_review_df.book_id.isin(sampled_books)]\n",
    "\n",
    "    return sampled_books_df, sampled_interactions_df, sampled_reviews_df"
   ]
  },
  {
   "cell_type": "code",
   "execution_count": null,
   "metadata": {},
   "outputs": [],
   "source": []
  },
  {
   "cell_type": "markdown",
   "metadata": {},
   "source": [
    "# How does including more relationship information influence inference performance?\n",
    "\n",
    "Relationship information enters the model through\n",
    "\n",
    "- Structured input\n",
    "    - Scale the amount of graph sampling \n",
    "- Structured output\n",
    "    - Scale the amount of blocking"
   ]
  },
  {
   "cell_type": "markdown",
   "metadata": {},
   "source": [
    "**Method for running PSL CLI**"
   ]
  },
  {
   "cell_type": "code",
   "execution_count": 396,
   "metadata": {},
   "outputs": [],
   "source": [
    "def good_reads_psl(books_df, interactions_df, reviews_df, \n",
    "                   obs_interactions, obs_reviews,\n",
    "                   target_interactions, target_reviews,\n",
    "                   truth_interactions, truth_reviews, \n",
    "                   fold, setting):\n",
    "    \"\"\"\n",
    "    Given the provided datasets, run PSL \n",
    "    \"\"\"\n",
    "    \n",
    "    # call predicate construction method and provide sampled dataset \n",
    "    construct_predicates(books_df, interactions_df, reviews_df,\n",
    "                         obs_interactions, obs_reviews,\n",
    "                         target_interactions, target_reviews,\n",
    "                         truth_interactions, truth_reviews,\n",
    "                         fold, setting)\n",
    "    "
   ]
  },
  {
   "cell_type": "markdown",
   "metadata": {},
   "source": [
    "**Sample From Dataset and run PSL in eval**"
   ]
  },
  {
   "cell_type": "code",
   "execution_count": 426,
   "metadata": {},
   "outputs": [],
   "source": [
    "# sample from dataset using the books in the test set\n",
    "test_books = test_interactions_df.index.unique(level='book_id')\n",
    "sampled_books_df, sampled_interactions_df, sampled_reviews_df = goodreads_train_sample(20, test_books)\n",
    "\n",
    "# partition by obs_interactions, target_interactions, and, truth_interactions\n",
    "obs_interactions = sampled_interactions_df.index\n",
    "truth_interactions = test_interactions_df.index\n",
    "target_interactions = obs_interactions.union(truth_interactions)\n",
    "\n",
    "# partition by obs_reviews, target_reviews, and, truth_reviews\n",
    "obs_reviews = sampled_reviews_df.index\n",
    "target_reviews = test_reviews_df.index\n",
    "truth_reviews = obs_reviews.union(target_reviews)\n",
    "\n",
    "# set fold and setting\n",
    "fold = '0'\n",
    "setting = 'eval'\n",
    "\n",
    "# run PSL eval\n",
    "good_reads_psl(books_df, interactions_df, reviews_df, \n",
    "               obs_interactions, obs_reviews,\n",
    "               target_interactions, target_reviews,\n",
    "               truth_interactions, truth_reviews, \n",
    "               fold, setting)"
   ]
  },
  {
   "cell_type": "markdown",
   "metadata": {},
   "source": [
    "# How does weight learnings effectiveness change with dataset size?"
   ]
  },
  {
   "cell_type": "markdown",
   "metadata": {},
   "source": [
    "# How does weight learning with many different data samples effect weight learning result and effectiveness?"
   ]
  },
  {
   "cell_type": "markdown",
   "metadata": {},
   "source": []
  },
  {
   "cell_type": "markdown",
   "metadata": {},
   "source": [
    "# SCRATCH "
   ]
  },
  {
   "cell_type": "code",
   "execution_count": 391,
   "metadata": {},
   "outputs": [],
   "source": [
    "# create genre to book data frame, genre is from shelf names by users\n",
    "max_genres = 3\n",
    "genre_df = pd.DataFrame(columns=books_df.index)\n",
    "genre_df.index.name = 'genre'\n",
    "for book_id, book in books_df.iterrows():\n",
    "    n_genres = 0\n",
    "    for genre in book.popular_shelves:\n",
    "        if n_genres >= 3:\n",
    "            break\n",
    "        else:\n",
    "            if genre['name'] != 'to-read':\n",
    "                genre_df.loc[genre['name'], book.name] = 1\n",
    "                n_genres = n_genres + 1"
   ]
  },
  {
   "cell_type": "code",
   "execution_count": 394,
   "metadata": {},
   "outputs": [
    {
     "data": {
      "text/plain": [
       "genre        book_id \n",
       "manga        836610      1\n",
       "             13154150    1\n",
       "             12910983    1\n",
       "             29499005    1\n",
       "             13573616    1\n",
       "                        ..\n",
       "peanuts      54597       1\n",
       "dean-koontz  7573403     1\n",
       "             268555      1\n",
       "             2029932     1\n",
       "koontz       268555      1\n",
       "Length: 2229, dtype: object"
      ]
     },
     "execution_count": 394,
     "metadata": {},
     "output_type": "execute_result"
    }
   ],
   "source": [
    "genre_df.stack()"
   ]
  },
  {
   "cell_type": "code",
   "execution_count": 429,
   "metadata": {},
   "outputs": [
    {
     "data": {
      "text/plain": [
       "[{'count': '39390', 'name': 'to-read'},\n",
       " {'count': '3294', 'name': 'manga'},\n",
       " {'count': '1576', 'name': 'currently-reading'},\n",
       " {'count': '383', 'name': 'favorites'},\n",
       " {'count': '351', 'name': 'graphic-novels'},\n",
       " {'count': '303', 'name': 'fantasy'},\n",
       " {'count': '282', 'name': 'comics'},\n",
       " {'count': '265', 'name': 'horror'},\n",
       " {'count': '122', 'name': 'mangá'},\n",
       " {'count': '122', 'name': 'graphic-novel'},\n",
       " {'count': '118', 'name': 'attack-on-titan'},\n",
       " {'count': '116', 'name': 'mangas'},\n",
       " {'count': '113', 'name': 'dystopia'},\n",
       " {'count': '111', 'name': 'science-fiction'},\n",
       " {'count': '108', 'name': 'dystopian'},\n",
       " {'count': '106', 'name': 'books-i-own'},\n",
       " {'count': '105', 'name': 'owned'},\n",
       " {'count': '95', 'name': 'fiction'},\n",
       " {'count': '79', 'name': 'sci-fi'},\n",
       " {'count': '72', 'name': 'young-adult'},\n",
       " {'count': '69', 'name': 'series'},\n",
       " {'count': '64', 'name': 'action'},\n",
       " {'count': '55', 'name': 'manga-comics'},\n",
       " {'count': '53', 'name': 'comics-manga'},\n",
       " {'count': '49', 'name': 'anime'},\n",
       " {'count': '44', 'name': 'read-in-2014'},\n",
       " {'count': '44', 'name': 'favourites'},\n",
       " {'count': '44', 'name': 'read-manga'},\n",
       " {'count': '43', 'name': 'owned-books'},\n",
       " {'count': '38', 'name': 'manga-read'},\n",
       " {'count': '37', 'name': 'comics-graphic-novels'},\n",
       " {'count': '37', 'name': 'manga-manhwa'},\n",
       " {'count': '37', 'name': 'post-apocalyptic'},\n",
       " {'count': '37', 'name': 'shounen'},\n",
       " {'count': '35', 'name': 'adventure'},\n",
       " {'count': '34', 'name': 'mystery'},\n",
       " {'count': '33', 'name': 'read-in-2015'},\n",
       " {'count': '31', 'name': 'comic'},\n",
       " {'count': '31', 'name': 'manga-graphic-novels'},\n",
       " {'count': '31', 'name': 'japanese'},\n",
       " {'count': '30', 'name': 'read-in-2017'},\n",
       " {'count': '30', 'name': 'read-in-2016'},\n",
       " {'count': '30', 'name': 'manga-to-read'},\n",
       " {'count': '30', 'name': 'ya'},\n",
       " {'count': '30', 'name': 'shonen'},\n",
       " {'count': '28', 'name': 'library'},\n",
       " {'count': '27', 'name': 'default'},\n",
       " {'count': '25', 'name': 'graphic-novels-manga'},\n",
       " {'count': '24', 'name': 'japan'},\n",
       " {'count': '24', 'name': 'war'},\n",
       " {'count': '24', 'name': 'to-buy'},\n",
       " {'count': '23', 'name': 'graphic-novels-comics'},\n",
       " {'count': '22', 'name': 'read-in-english'},\n",
       " {'count': '21', 'name': 'ebook'},\n",
       " {'count': '20', 'name': 'cómics'},\n",
       " {'count': '20', 'name': 'graphic-novels-and-manga'},\n",
       " {'count': '19', 'name': 'sequential-art'},\n",
       " {'count': '18', 'name': 'i-own'},\n",
       " {'count': '18', 'name': 'thriller'},\n",
       " {'count': '18', 'name': 'read-in-2013'},\n",
       " {'count': '17', 'name': '2015-reads'},\n",
       " {'count': '17', 'name': 'graphic-novel-manga'},\n",
       " {'count': '17', 'name': 'aot'},\n",
       " {'count': '17', 'name': 'read-2014'},\n",
       " {'count': '17', 'name': 'graphic'},\n",
       " {'count': '17', 'name': 'shingeki-no-kyojin'},\n",
       " {'count': '17', 'name': 'my-books'},\n",
       " {'count': '17', 'name': 'manga-and-graphic-novels'},\n",
       " {'count': '16', 'name': 'dark'},\n",
       " {'count': '16', 'name': 'action-adventure'},\n",
       " {'count': '16', 'name': 'comic-manga'},\n",
       " {'count': '16', 'name': '5-stars'},\n",
       " {'count': '16', 'name': 'adult'},\n",
       " {'count': '16', 'name': 'apocalyptic'},\n",
       " {'count': '15', 'name': 'to-read-manga'},\n",
       " {'count': '15', 'name': 'reviewed'},\n",
       " {'count': '14', 'name': 'borrowed'},\n",
       " {'count': '14', 'name': '4-stars'},\n",
       " {'count': '14', 'name': 'manga-and-comics'},\n",
       " {'count': '13', 'name': 'comics-and-graphic-novels'},\n",
       " {'count': '13', 'name': 'comic-books'},\n",
       " {'count': '13', 'name': 'comics-and-manga'},\n",
       " {'count': '13', 'name': 'favorite-manga'},\n",
       " {'count': '13', 'name': 'survival'},\n",
       " {'count': '12', 'name': '2016-reads'},\n",
       " {'count': '12', 'name': 'read-2015'},\n",
       " {'count': '12', 'name': 'manga-i-own'},\n",
       " {'count': '12', 'name': 'e-book'},\n",
       " {'count': '12', 'name': 'supernatural'},\n",
       " {'count': '12', 'name': 'graphic-novels-and-comics'},\n",
       " {'count': '11', 'name': 'read-2017'},\n",
       " {'count': '11', 'name': 'mangás'},\n",
       " {'count': '11', 'name': 'read-2016'},\n",
       " {'count': '11', 'name': 'scifi'},\n",
       " {'count': '11', 'name': 'kindle'},\n",
       " {'count': '11', 'name': 'favorite'},\n",
       " {'count': '11', 'name': 'in-english'},\n",
       " {'count': '11', 'name': 'dark-fantasy'},\n",
       " {'count': '11', 'name': 'drama'},\n",
       " {'count': '10', 'name': 'suspense'}]"
      ]
     },
     "execution_count": 429,
     "metadata": {},
     "output_type": "execute_result"
    }
   ],
   "source": [
    "books_df.loc['13154150'].popular_shelves"
   ]
  },
  {
   "cell_type": "code",
   "execution_count": null,
   "metadata": {},
   "outputs": [],
   "source": []
  }
 ],
 "metadata": {
  "kernelspec": {
   "display_name": "Python 3",
   "language": "python",
   "name": "python3"
  },
  "language_info": {
   "codemirror_mode": {
    "name": "ipython",
    "version": 3
   },
   "file_extension": ".py",
   "mimetype": "text/x-python",
   "name": "python",
   "nbconvert_exporter": "python",
   "pygments_lexer": "ipython3",
   "version": "3.7.4"
  }
 },
 "nbformat": 4,
 "nbformat_minor": 4
}
